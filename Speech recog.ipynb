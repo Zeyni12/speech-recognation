{
 "cells": [
  {
   "cell_type": "code",
   "execution_count": 2,
   "id": "5a641a62-accc-4663-a29b-395023452476",
   "metadata": {},
   "outputs": [],
   "source": [
    "import speech_recognition\n",
    "import pyttsx3"
   ]
  },
  {
   "cell_type": "code",
   "execution_count": 9,
   "id": "9781c8a8-2454-445d-842f-4a0736ed8a14",
   "metadata": {},
   "outputs": [],
   "source": [
    "def SpeakNow(command):\n",
    "    voice = pyttsx3.init()\n",
    "    voice.say(command)\n",
    "    voice.runAndWait()"
   ]
  },
  {
   "cell_type": "code",
   "execution_count": 10,
   "id": "50d4ae80-338d-48a3-b2d7-f05533b96d23",
   "metadata": {},
   "outputs": [
    {
     "name": "stdout",
     "output_type": "stream",
     "text": [
      "silence please\n",
      "Speak now please.....\n",
      "Did you say :- hello hello hello\n"
     ]
    }
   ],
   "source": [
    "sr = speech_recognition.Recognizer()\n",
    "\n",
    "with speech_recognition.Microphone() as source2:\n",
    "    \n",
    "    print(\"silence please\")\n",
    "    \n",
    "    sr.adjust_for_ambient_noise(source2, duration = 2)\n",
    "    \n",
    "    print(\"Speak now please.....\")\n",
    "    \n",
    "    audio2 = sr.listen(source2)\n",
    "\n",
    "    textt = sr.recognize_google(audio2)\n",
    "    textt = textt.lower()\n",
    "\n",
    "    print(\"Did you say :- \"+textt)\n",
    "\n",
    "    SpeakNow(textt)"
   ]
  },
  {
   "cell_type": "code",
   "execution_count": null,
   "id": "12eacd2e-5a0a-4bb3-8ab2-88579f69f0fd",
   "metadata": {},
   "outputs": [],
   "source": []
  },
  {
   "cell_type": "code",
   "execution_count": null,
   "id": "c83d537f-1438-4a61-87c4-ce5220c64f6d",
   "metadata": {},
   "outputs": [],
   "source": []
  },
  {
   "cell_type": "code",
   "execution_count": null,
   "id": "28038dc2-91d4-4233-95cd-b8f6e24b4ac1",
   "metadata": {},
   "outputs": [],
   "source": []
  }
 ],
 "metadata": {
  "kernelspec": {
   "display_name": "Python 3 (ipykernel)",
   "language": "python",
   "name": "python3"
  },
  "language_info": {
   "codemirror_mode": {
    "name": "ipython",
    "version": 3
   },
   "file_extension": ".py",
   "mimetype": "text/x-python",
   "name": "python",
   "nbconvert_exporter": "python",
   "pygments_lexer": "ipython3",
   "version": "3.11.7"
  }
 },
 "nbformat": 4,
 "nbformat_minor": 5
}
